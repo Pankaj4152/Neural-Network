{
 "cells": [
  {
   "cell_type": "markdown",
   "id": "e54f18ba",
   "metadata": {
    "id": "TqxT09VNxSPx",
    "papermill": {
     "duration": 0.006363,
     "end_time": "2024-10-24T06:02:20.631326",
     "exception": false,
     "start_time": "2024-10-24T06:02:20.624963",
     "status": "completed"
    },
    "tags": []
   },
   "source": [
    "# Neural Network From Scratch"
   ]
  },
  {
   "cell_type": "markdown",
   "id": "bd04b039",
   "metadata": {
    "id": "P15VehS4xbAM",
    "papermill": {
     "duration": 0.005401,
     "end_time": "2024-10-24T06:02:20.642418",
     "exception": false,
     "start_time": "2024-10-24T06:02:20.637017",
     "status": "completed"
    },
    "tags": []
   },
   "source": [
    "This notebook implements a simple neural network from scratch using NumPy to classify handwritten digits from MNIST dataset."
   ]
  },
  {
   "cell_type": "code",
   "execution_count": 1,
   "id": "7de36706",
   "metadata": {
    "execution": {
     "iopub.execute_input": "2024-10-24T06:02:20.655447Z",
     "iopub.status.busy": "2024-10-24T06:02:20.654994Z",
     "iopub.status.idle": "2024-10-24T06:02:21.460741Z",
     "shell.execute_reply": "2024-10-24T06:02:21.459797Z"
    },
    "id": "IkKqz8aED1jS",
    "papermill": {
     "duration": 0.81544,
     "end_time": "2024-10-24T06:02:21.463367",
     "exception": false,
     "start_time": "2024-10-24T06:02:20.647927",
     "status": "completed"
    },
    "tags": []
   },
   "outputs": [],
   "source": [
    "# importing necessary libraries for numerical operations, data manipulation and plotting images\n",
    "import numpy as np\n",
    "import pandas as pd\n",
    "import matplotlib.pyplot as plt        "
   ]
  },
  {
   "cell_type": "code",
   "execution_count": 2,
   "id": "1cd02bae",
   "metadata": {
    "execution": {
     "iopub.execute_input": "2024-10-24T06:02:21.476944Z",
     "iopub.status.busy": "2024-10-24T06:02:21.476388Z",
     "iopub.status.idle": "2024-10-24T06:02:26.171359Z",
     "shell.execute_reply": "2024-10-24T06:02:26.170266Z"
    },
    "id": "w6ZqqZasD8kN",
    "papermill": {
     "duration": 4.704632,
     "end_time": "2024-10-24T06:02:26.173991",
     "exception": false,
     "start_time": "2024-10-24T06:02:21.469359",
     "status": "completed"
    },
    "tags": []
   },
   "outputs": [],
   "source": [
    "# importing the dataset from CSV file\n",
    "data = pd.read_csv('/kaggle/input/mnist-dataset/mnist_train.csv')"
   ]
  },
  {
   "cell_type": "code",
   "execution_count": 3,
   "id": "aa339015",
   "metadata": {
    "execution": {
     "iopub.execute_input": "2024-10-24T06:02:26.188018Z",
     "iopub.status.busy": "2024-10-24T06:02:26.187339Z",
     "iopub.status.idle": "2024-10-24T06:02:26.223761Z",
     "shell.execute_reply": "2024-10-24T06:02:26.222423Z"
    },
    "id": "3vdrzzIrEkxM",
    "outputId": "7c2e7ea4-e33c-4c04-d831-325409e9fe0f",
    "papermill": {
     "duration": 0.046484,
     "end_time": "2024-10-24T06:02:26.226402",
     "exception": false,
     "start_time": "2024-10-24T06:02:26.179918",
     "status": "completed"
    },
    "tags": []
   },
   "outputs": [
    {
     "data": {
      "text/html": [
       "<div>\n",
       "<style scoped>\n",
       "    .dataframe tbody tr th:only-of-type {\n",
       "        vertical-align: middle;\n",
       "    }\n",
       "\n",
       "    .dataframe tbody tr th {\n",
       "        vertical-align: top;\n",
       "    }\n",
       "\n",
       "    .dataframe thead th {\n",
       "        text-align: right;\n",
       "    }\n",
       "</style>\n",
       "<table border=\"1\" class=\"dataframe\">\n",
       "  <thead>\n",
       "    <tr style=\"text-align: right;\">\n",
       "      <th></th>\n",
       "      <th>5</th>\n",
       "      <th>0</th>\n",
       "      <th>0.1</th>\n",
       "      <th>0.2</th>\n",
       "      <th>0.3</th>\n",
       "      <th>0.4</th>\n",
       "      <th>0.5</th>\n",
       "      <th>0.6</th>\n",
       "      <th>0.7</th>\n",
       "      <th>0.8</th>\n",
       "      <th>...</th>\n",
       "      <th>0.608</th>\n",
       "      <th>0.609</th>\n",
       "      <th>0.610</th>\n",
       "      <th>0.611</th>\n",
       "      <th>0.612</th>\n",
       "      <th>0.613</th>\n",
       "      <th>0.614</th>\n",
       "      <th>0.615</th>\n",
       "      <th>0.616</th>\n",
       "      <th>0.617</th>\n",
       "    </tr>\n",
       "  </thead>\n",
       "  <tbody>\n",
       "    <tr>\n",
       "      <th>0</th>\n",
       "      <td>0</td>\n",
       "      <td>0</td>\n",
       "      <td>0</td>\n",
       "      <td>0</td>\n",
       "      <td>0</td>\n",
       "      <td>0</td>\n",
       "      <td>0</td>\n",
       "      <td>0</td>\n",
       "      <td>0</td>\n",
       "      <td>0</td>\n",
       "      <td>...</td>\n",
       "      <td>0</td>\n",
       "      <td>0</td>\n",
       "      <td>0</td>\n",
       "      <td>0</td>\n",
       "      <td>0</td>\n",
       "      <td>0</td>\n",
       "      <td>0</td>\n",
       "      <td>0</td>\n",
       "      <td>0</td>\n",
       "      <td>0</td>\n",
       "    </tr>\n",
       "    <tr>\n",
       "      <th>1</th>\n",
       "      <td>4</td>\n",
       "      <td>0</td>\n",
       "      <td>0</td>\n",
       "      <td>0</td>\n",
       "      <td>0</td>\n",
       "      <td>0</td>\n",
       "      <td>0</td>\n",
       "      <td>0</td>\n",
       "      <td>0</td>\n",
       "      <td>0</td>\n",
       "      <td>...</td>\n",
       "      <td>0</td>\n",
       "      <td>0</td>\n",
       "      <td>0</td>\n",
       "      <td>0</td>\n",
       "      <td>0</td>\n",
       "      <td>0</td>\n",
       "      <td>0</td>\n",
       "      <td>0</td>\n",
       "      <td>0</td>\n",
       "      <td>0</td>\n",
       "    </tr>\n",
       "    <tr>\n",
       "      <th>2</th>\n",
       "      <td>1</td>\n",
       "      <td>0</td>\n",
       "      <td>0</td>\n",
       "      <td>0</td>\n",
       "      <td>0</td>\n",
       "      <td>0</td>\n",
       "      <td>0</td>\n",
       "      <td>0</td>\n",
       "      <td>0</td>\n",
       "      <td>0</td>\n",
       "      <td>...</td>\n",
       "      <td>0</td>\n",
       "      <td>0</td>\n",
       "      <td>0</td>\n",
       "      <td>0</td>\n",
       "      <td>0</td>\n",
       "      <td>0</td>\n",
       "      <td>0</td>\n",
       "      <td>0</td>\n",
       "      <td>0</td>\n",
       "      <td>0</td>\n",
       "    </tr>\n",
       "    <tr>\n",
       "      <th>3</th>\n",
       "      <td>9</td>\n",
       "      <td>0</td>\n",
       "      <td>0</td>\n",
       "      <td>0</td>\n",
       "      <td>0</td>\n",
       "      <td>0</td>\n",
       "      <td>0</td>\n",
       "      <td>0</td>\n",
       "      <td>0</td>\n",
       "      <td>0</td>\n",
       "      <td>...</td>\n",
       "      <td>0</td>\n",
       "      <td>0</td>\n",
       "      <td>0</td>\n",
       "      <td>0</td>\n",
       "      <td>0</td>\n",
       "      <td>0</td>\n",
       "      <td>0</td>\n",
       "      <td>0</td>\n",
       "      <td>0</td>\n",
       "      <td>0</td>\n",
       "    </tr>\n",
       "    <tr>\n",
       "      <th>4</th>\n",
       "      <td>2</td>\n",
       "      <td>0</td>\n",
       "      <td>0</td>\n",
       "      <td>0</td>\n",
       "      <td>0</td>\n",
       "      <td>0</td>\n",
       "      <td>0</td>\n",
       "      <td>0</td>\n",
       "      <td>0</td>\n",
       "      <td>0</td>\n",
       "      <td>...</td>\n",
       "      <td>0</td>\n",
       "      <td>0</td>\n",
       "      <td>0</td>\n",
       "      <td>0</td>\n",
       "      <td>0</td>\n",
       "      <td>0</td>\n",
       "      <td>0</td>\n",
       "      <td>0</td>\n",
       "      <td>0</td>\n",
       "      <td>0</td>\n",
       "    </tr>\n",
       "    <tr>\n",
       "      <th>...</th>\n",
       "      <td>...</td>\n",
       "      <td>...</td>\n",
       "      <td>...</td>\n",
       "      <td>...</td>\n",
       "      <td>...</td>\n",
       "      <td>...</td>\n",
       "      <td>...</td>\n",
       "      <td>...</td>\n",
       "      <td>...</td>\n",
       "      <td>...</td>\n",
       "      <td>...</td>\n",
       "      <td>...</td>\n",
       "      <td>...</td>\n",
       "      <td>...</td>\n",
       "      <td>...</td>\n",
       "      <td>...</td>\n",
       "      <td>...</td>\n",
       "      <td>...</td>\n",
       "      <td>...</td>\n",
       "      <td>...</td>\n",
       "      <td>...</td>\n",
       "    </tr>\n",
       "    <tr>\n",
       "      <th>59994</th>\n",
       "      <td>8</td>\n",
       "      <td>0</td>\n",
       "      <td>0</td>\n",
       "      <td>0</td>\n",
       "      <td>0</td>\n",
       "      <td>0</td>\n",
       "      <td>0</td>\n",
       "      <td>0</td>\n",
       "      <td>0</td>\n",
       "      <td>0</td>\n",
       "      <td>...</td>\n",
       "      <td>0</td>\n",
       "      <td>0</td>\n",
       "      <td>0</td>\n",
       "      <td>0</td>\n",
       "      <td>0</td>\n",
       "      <td>0</td>\n",
       "      <td>0</td>\n",
       "      <td>0</td>\n",
       "      <td>0</td>\n",
       "      <td>0</td>\n",
       "    </tr>\n",
       "    <tr>\n",
       "      <th>59995</th>\n",
       "      <td>3</td>\n",
       "      <td>0</td>\n",
       "      <td>0</td>\n",
       "      <td>0</td>\n",
       "      <td>0</td>\n",
       "      <td>0</td>\n",
       "      <td>0</td>\n",
       "      <td>0</td>\n",
       "      <td>0</td>\n",
       "      <td>0</td>\n",
       "      <td>...</td>\n",
       "      <td>0</td>\n",
       "      <td>0</td>\n",
       "      <td>0</td>\n",
       "      <td>0</td>\n",
       "      <td>0</td>\n",
       "      <td>0</td>\n",
       "      <td>0</td>\n",
       "      <td>0</td>\n",
       "      <td>0</td>\n",
       "      <td>0</td>\n",
       "    </tr>\n",
       "    <tr>\n",
       "      <th>59996</th>\n",
       "      <td>5</td>\n",
       "      <td>0</td>\n",
       "      <td>0</td>\n",
       "      <td>0</td>\n",
       "      <td>0</td>\n",
       "      <td>0</td>\n",
       "      <td>0</td>\n",
       "      <td>0</td>\n",
       "      <td>0</td>\n",
       "      <td>0</td>\n",
       "      <td>...</td>\n",
       "      <td>0</td>\n",
       "      <td>0</td>\n",
       "      <td>0</td>\n",
       "      <td>0</td>\n",
       "      <td>0</td>\n",
       "      <td>0</td>\n",
       "      <td>0</td>\n",
       "      <td>0</td>\n",
       "      <td>0</td>\n",
       "      <td>0</td>\n",
       "    </tr>\n",
       "    <tr>\n",
       "      <th>59997</th>\n",
       "      <td>6</td>\n",
       "      <td>0</td>\n",
       "      <td>0</td>\n",
       "      <td>0</td>\n",
       "      <td>0</td>\n",
       "      <td>0</td>\n",
       "      <td>0</td>\n",
       "      <td>0</td>\n",
       "      <td>0</td>\n",
       "      <td>0</td>\n",
       "      <td>...</td>\n",
       "      <td>0</td>\n",
       "      <td>0</td>\n",
       "      <td>0</td>\n",
       "      <td>0</td>\n",
       "      <td>0</td>\n",
       "      <td>0</td>\n",
       "      <td>0</td>\n",
       "      <td>0</td>\n",
       "      <td>0</td>\n",
       "      <td>0</td>\n",
       "    </tr>\n",
       "    <tr>\n",
       "      <th>59998</th>\n",
       "      <td>8</td>\n",
       "      <td>0</td>\n",
       "      <td>0</td>\n",
       "      <td>0</td>\n",
       "      <td>0</td>\n",
       "      <td>0</td>\n",
       "      <td>0</td>\n",
       "      <td>0</td>\n",
       "      <td>0</td>\n",
       "      <td>0</td>\n",
       "      <td>...</td>\n",
       "      <td>0</td>\n",
       "      <td>0</td>\n",
       "      <td>0</td>\n",
       "      <td>0</td>\n",
       "      <td>0</td>\n",
       "      <td>0</td>\n",
       "      <td>0</td>\n",
       "      <td>0</td>\n",
       "      <td>0</td>\n",
       "      <td>0</td>\n",
       "    </tr>\n",
       "  </tbody>\n",
       "</table>\n",
       "<p>59999 rows × 785 columns</p>\n",
       "</div>"
      ],
      "text/plain": [
       "       5  0  0.1  0.2  0.3  0.4  0.5  0.6  0.7  0.8  ...  0.608  0.609  0.610  \\\n",
       "0      0  0    0    0    0    0    0    0    0    0  ...      0      0      0   \n",
       "1      4  0    0    0    0    0    0    0    0    0  ...      0      0      0   \n",
       "2      1  0    0    0    0    0    0    0    0    0  ...      0      0      0   \n",
       "3      9  0    0    0    0    0    0    0    0    0  ...      0      0      0   \n",
       "4      2  0    0    0    0    0    0    0    0    0  ...      0      0      0   \n",
       "...   .. ..  ...  ...  ...  ...  ...  ...  ...  ...  ...    ...    ...    ...   \n",
       "59994  8  0    0    0    0    0    0    0    0    0  ...      0      0      0   \n",
       "59995  3  0    0    0    0    0    0    0    0    0  ...      0      0      0   \n",
       "59996  5  0    0    0    0    0    0    0    0    0  ...      0      0      0   \n",
       "59997  6  0    0    0    0    0    0    0    0    0  ...      0      0      0   \n",
       "59998  8  0    0    0    0    0    0    0    0    0  ...      0      0      0   \n",
       "\n",
       "       0.611  0.612  0.613  0.614  0.615  0.616  0.617  \n",
       "0          0      0      0      0      0      0      0  \n",
       "1          0      0      0      0      0      0      0  \n",
       "2          0      0      0      0      0      0      0  \n",
       "3          0      0      0      0      0      0      0  \n",
       "4          0      0      0      0      0      0      0  \n",
       "...      ...    ...    ...    ...    ...    ...    ...  \n",
       "59994      0      0      0      0      0      0      0  \n",
       "59995      0      0      0      0      0      0      0  \n",
       "59996      0      0      0      0      0      0      0  \n",
       "59997      0      0      0      0      0      0      0  \n",
       "59998      0      0      0      0      0      0      0  \n",
       "\n",
       "[59999 rows x 785 columns]"
      ]
     },
     "execution_count": 3,
     "metadata": {},
     "output_type": "execute_result"
    }
   ],
   "source": [
    "data"
   ]
  },
  {
   "cell_type": "code",
   "execution_count": 4,
   "id": "c688dbaf",
   "metadata": {
    "execution": {
     "iopub.execute_input": "2024-10-24T06:02:26.242178Z",
     "iopub.status.busy": "2024-10-24T06:02:26.241791Z",
     "iopub.status.idle": "2024-10-24T06:02:26.389839Z",
     "shell.execute_reply": "2024-10-24T06:02:26.388911Z"
    },
    "id": "mvDcb48_En_Y",
    "papermill": {
     "duration": 0.159934,
     "end_time": "2024-10-24T06:02:26.392581",
     "exception": false,
     "start_time": "2024-10-24T06:02:26.232647",
     "status": "completed"
    },
    "tags": []
   },
   "outputs": [],
   "source": [
    "# Converting the DataFrame to a NumPy array for easier manipulation\n",
    "data = np.array(data)"
   ]
  },
  {
   "cell_type": "code",
   "execution_count": 5,
   "id": "dfca2882",
   "metadata": {
    "execution": {
     "iopub.execute_input": "2024-10-24T06:02:26.409017Z",
     "iopub.status.busy": "2024-10-24T06:02:26.408070Z",
     "iopub.status.idle": "2024-10-24T06:02:26.413030Z",
     "shell.execute_reply": "2024-10-24T06:02:26.411974Z"
    },
    "id": "zvYFg_vNE8dQ",
    "papermill": {
     "duration": 0.015327,
     "end_time": "2024-10-24T06:02:26.415219",
     "exception": false,
     "start_time": "2024-10-24T06:02:26.399892",
     "status": "completed"
    },
    "tags": []
   },
   "outputs": [],
   "source": [
    "# Getting the number of samples (m) and features (n)\n",
    "m, n = data.shape"
   ]
  },
  {
   "cell_type": "code",
   "execution_count": 6,
   "id": "bcc419fd",
   "metadata": {
    "execution": {
     "iopub.execute_input": "2024-10-24T06:02:26.429861Z",
     "iopub.status.busy": "2024-10-24T06:02:26.429111Z",
     "iopub.status.idle": "2024-10-24T06:02:27.213531Z",
     "shell.execute_reply": "2024-10-24T06:02:27.212340Z"
    },
    "id": "cb0XrlYFE-Yk",
    "papermill": {
     "duration": 0.795468,
     "end_time": "2024-10-24T06:02:27.216966",
     "exception": false,
     "start_time": "2024-10-24T06:02:26.421498",
     "status": "completed"
    },
    "tags": []
   },
   "outputs": [],
   "source": [
    "# Shuffling the data to ensure randomness in training\n",
    "np.random.shuffle(data)"
   ]
  },
  {
   "cell_type": "code",
   "execution_count": 7,
   "id": "a05aa1ed",
   "metadata": {
    "execution": {
     "iopub.execute_input": "2024-10-24T06:02:27.234880Z",
     "iopub.status.busy": "2024-10-24T06:02:27.234026Z",
     "iopub.status.idle": "2024-10-24T06:02:27.396666Z",
     "shell.execute_reply": "2024-10-24T06:02:27.395294Z"
    },
    "id": "_DOeSEXQFC-0",
    "papermill": {
     "duration": 0.173985,
     "end_time": "2024-10-24T06:02:27.399250",
     "exception": false,
     "start_time": "2024-10-24T06:02:27.225265",
     "status": "completed"
    },
    "tags": []
   },
   "outputs": [],
   "source": [
    "# Splitting the data into development and training sets\n",
    "data_dev = data[0:1000].T         # Development set of 1000 samples\n",
    "Y_dev = data_dev[0]               # Labels for the development set\n",
    "X_dev = data_dev[1:n]             # Features for the development set\n",
    "X_dev = X_dev / 255               # Normalizing the input data\n",
    "\n",
    "data_train = data[1000:m].T       # Training set\n",
    "Y_train = data_train[0]           # Labels for the training set\n",
    "X_train = data_train[1:n]         # Features for the training set\n",
    "X_train = X_train / 255           # Normalizing the input data"
   ]
  },
  {
   "cell_type": "code",
   "execution_count": 8,
   "id": "9437e90f",
   "metadata": {
    "execution": {
     "iopub.execute_input": "2024-10-24T06:02:27.417289Z",
     "iopub.status.busy": "2024-10-24T06:02:27.416632Z",
     "iopub.status.idle": "2024-10-24T06:02:27.435791Z",
     "shell.execute_reply": "2024-10-24T06:02:27.434362Z"
    },
    "id": "n-Cn37-ZmbvT",
    "papermill": {
     "duration": 0.033184,
     "end_time": "2024-10-24T06:02:27.439009",
     "exception": false,
     "start_time": "2024-10-24T06:02:27.405825",
     "status": "completed"
    },
    "tags": []
   },
   "outputs": [],
   "source": [
    "def initialize_parameters():\n",
    "    \"\"\"Initializes the parameters (weights and biases) for the neural network.\"\"\"\n",
    "    # Weight matrices are initialized randomly with values between -0.5 and 0.5\n",
    "    W1 = np.random.rand(64, 784) - 0.5  # Weights for the first layer (64 neurons, 784 inputs)\n",
    "    b1 = np.random.rand(64, 1) - 0.5    # Bias for the first layer\n",
    "    W2 = np.random.rand(32, 64) - 0.5    # Weights for the second layer (32 neurons, 64 inputs)\n",
    "    b2 = np.random.rand(32, 1) - 0.5    # Bias for the second layer\n",
    "    W3 = np.random.rand(10, 32) - 0.5    # Weights for the output layer (10 neurons, 32 inputs)\n",
    "    b3 = np.random.rand(10, 1) - 0.5    # Bias for the output layer\n",
    "    return W1, b1, W2, b2, W3, b3\n",
    "\n",
    "\n",
    "\n",
    "def ReLU(Z):\n",
    "  \"\"\"Applies the ReLU activation function.\"\"\"\n",
    "  return np.maximum(Z, 0)\n",
    "\n",
    "def softmax(Z):\n",
    "  \"\"\"Applies the softmax activation function.\"\"\"\n",
    "  A = np.exp(Z) / sum(np.exp(Z))\n",
    "  return A\n",
    "\n",
    "\n",
    "def forward_prop(W1, b1, W2, b2, W3, b3, X):\n",
    "    \"\"\"Performs forward propagation through the neural network.\"\"\"\n",
    "    Z1 = W1.dot(X) + b1  # Linear transformation for the first layer\n",
    "    A1 = ReLU(Z1)        # Activation function for the first layer\n",
    "    Z2 = W2.dot(A1) + b2  # Linear transformation for the second layer\n",
    "    A2 = ReLU(Z2)        # Activation function for the second layer\n",
    "    Z3 = W3.dot(A2) + b3  # Linear transformation for the output layer\n",
    "    A3 = softmax(Z3)     # Applying softmax to get output probabilities\n",
    "    return Z1, A1, Z2, A2, Z3, A3\n",
    "\n",
    "def ReLU_deriv(Z):\n",
    "  \"\"\"Calculates the derivative of the ReLU activation function.\"\"\"\n",
    "  return Z > 0\n",
    "\n",
    "\n",
    "def one_hot(Y):\n",
    "    \"\"\"Converts the labels to one-hot encoding.\"\"\"\n",
    "    one_hot_Y = np.zeros((Y.size, Y.max() + 1))  # Initialize a zero array\n",
    "    one_hot_Y[np.arange(Y.size), Y] = 1           # Set the correct indices to 1\n",
    "    one_hot_Y = one_hot_Y.T                       # Transpose the array for correct shape\n",
    "    return one_hot_Y\n",
    "\n",
    "\n",
    "def backward_prop(Z1, A1, Z2, A2, Z3, A3, W1, W2, W3, X, Y):\n",
    "    \"\"\"Performs backward propagation to compute gradients.\"\"\"\n",
    "    one_hot_Y = one_hot(Y)  # Convert labels to one-hot encoding\n",
    "    dZ3 = A3 - one_hot_Y     # Compute the gradient for the output layer\n",
    "    dW3 = 1 / m * dZ3.dot(A2.T)  # Gradient for weights of output layer\n",
    "    db3 = 1 / m * np.sum(dZ3)     # Gradient for biases of output layer\n",
    "\n",
    "    # Backpropagate through the second layer\n",
    "    dZ2 = W3.T.dot(dZ3) * ReLU_deriv(Z2)\n",
    "    dW2 = 1 / m * dZ2.dot(A1.T)  # Gradient for weights of second layer\n",
    "    db2 = 1 / m * np.sum(dZ2)     # Gradient for biases of second layer\n",
    "\n",
    "    # Backpropagate through the first layer\n",
    "    dZ1 = W2.T.dot(dZ2) * ReLU_deriv(Z1)\n",
    "    dW1 = 1 / m * dZ1.dot(X.T)    # Gradient for weights of first layer\n",
    "    db1 = 1 / m * np.sum(dZ1)      # Gradient for biases of first layer\n",
    "\n",
    "    return dW1, db1, dW2, db2, dW3, db3\n",
    "\n",
    "def update_params(W1, b1, W2, b2, W3, b3, dW1, db1, dW2, db2, dW3, db3, alpha):\n",
    "    \"\"\"Updates the parameters using gradient descent.\"\"\"\n",
    "    W1 = W1 - alpha * dW1  # Update weights of the first layer\n",
    "    b1 = b1 - alpha * db1   # Update biases of the first layer\n",
    "    W2 = W2 - alpha * dW2   # Update weights of the second layer\n",
    "    b2 = b2 - alpha * db2   # Update biases of the second layer\n",
    "    W3 = W3 - alpha * dW3   # Update weights of the output layer\n",
    "    b3 = b3 - alpha * db3   # Update biases of the output layer\n",
    "    return W1, b1, W2, b2, W3, b3"
   ]
  },
  {
   "cell_type": "code",
   "execution_count": 9,
   "id": "ba6829df",
   "metadata": {
    "execution": {
     "iopub.execute_input": "2024-10-24T06:02:27.460053Z",
     "iopub.status.busy": "2024-10-24T06:02:27.459412Z",
     "iopub.status.idle": "2024-10-24T06:02:27.470846Z",
     "shell.execute_reply": "2024-10-24T06:02:27.469610Z"
    },
    "id": "-mZoLGQmoXBN",
    "papermill": {
     "duration": 0.025179,
     "end_time": "2024-10-24T06:02:27.473873",
     "exception": false,
     "start_time": "2024-10-24T06:02:27.448694",
     "status": "completed"
    },
    "tags": []
   },
   "outputs": [],
   "source": [
    "def get_predictions(A3):\n",
    "    \"\"\"Returns the predicted classes based on the softmax output.\"\"\"\n",
    "    return np.argmax(A3, 0)  # Returns the index of the maximum probability for each sample\n",
    "\n",
    "\n",
    "def get_accuracy(predictions, Y):\n",
    "    \"\"\"Calculates the accuracy of the model.\"\"\"\n",
    "    print(predictions, Y)  # Optional: Print predictions and true labels for inspection\n",
    "    return np.sum(predictions == Y) / Y.size  # Calculate the ratio of correct predictions\n",
    "\n",
    "\n",
    "def gradient_descent(X, Y, alpha, iterations):\n",
    "    \"\"\"Trains the neural network using gradient descent.\"\"\"\n",
    "    W1, b1, W2, b2, W3, b3 = initialize_parameters()  # Initialize parameters\n",
    "    for i in range(1, iterations+1):\n",
    "        # Forward propagation\n",
    "        Z1, A1, Z2, A2, Z3, A3 = forward_prop(W1, b1, W2, b2, W3, b3, X)\n",
    "\n",
    "        # Backward propagation\n",
    "        dW1, db1, dW2, db2, dW3, db3 = backward_prop(Z1, A1, Z2, A2, Z3, A3, W1, W2, W3, X, Y)\n",
    "\n",
    "        # Update parameters\n",
    "        W1, b1, W2, b2, W3, b3 = update_params(W1, b1, W2, b2, W3, b3, dW1, db1, dW2, db2, dW3, db3, alpha)\n",
    "\n",
    "        # Print the progress every 50 iterations\n",
    "        if i % 50 == 0:\n",
    "            print(\"Iteration: \", i)\n",
    "            predictions = get_predictions(A3)\n",
    "            print(\"Accuracy: \", get_accuracy(predictions, Y))\n",
    "\n",
    "    return W1, b1, W2, b2, W3, b3"
   ]
  },
  {
   "cell_type": "code",
   "execution_count": 10,
   "id": "26caa69d",
   "metadata": {
    "execution": {
     "iopub.execute_input": "2024-10-24T06:02:27.490940Z",
     "iopub.status.busy": "2024-10-24T06:02:27.490412Z",
     "iopub.status.idle": "2024-10-24T06:05:27.093256Z",
     "shell.execute_reply": "2024-10-24T06:05:27.091973Z"
    },
    "papermill": {
     "duration": 179.627396,
     "end_time": "2024-10-24T06:05:27.108081",
     "exception": false,
     "start_time": "2024-10-24T06:02:27.480685",
     "status": "completed"
    },
    "tags": []
   },
   "outputs": [
    {
     "name": "stdout",
     "output_type": "stream",
     "text": [
      "Iteration:  50\n",
      "[9 2 1 ... 3 1 6] [9 2 1 ... 6 1 6]\n",
      "Accuracy:  0.7432668350311022\n",
      "Iteration:  100\n",
      "[9 2 1 ... 6 1 6] [9 2 1 ... 6 1 6]\n",
      "Accuracy:  0.8348107595043984\n",
      "Iteration:  150\n",
      "[9 2 1 ... 6 1 6] [9 2 1 ... 6 1 6]\n",
      "Accuracy:  0.8673706334005661\n",
      "Iteration:  200\n",
      "[9 2 1 ... 6 1 6] [9 2 1 ... 6 1 6]\n",
      "Accuracy:  0.8849133036153155\n",
      "Iteration:  250\n",
      "[9 2 1 ... 6 1 6] [9 2 1 ... 6 1 6]\n",
      "Accuracy:  0.8968796081289513\n",
      "Iteration:  300\n",
      "[9 2 1 ... 6 1 6] [9 2 1 ... 6 1 6]\n",
      "Accuracy:  0.9052526314005322\n",
      "Iteration:  350\n",
      "[9 2 1 ... 6 1 6] [9 2 1 ... 6 1 6]\n",
      "Accuracy:  0.9117781657316226\n",
      "Iteration:  400\n",
      "[9 2 1 ... 6 1 6] [9 2 1 ... 6 1 6]\n",
      "Accuracy:  0.9169816437566738\n",
      "Iteration:  450\n",
      "[9 2 1 ... 6 1 6] [9 2 1 ... 6 1 6]\n",
      "Accuracy:  0.9218291835454838\n",
      "Iteration:  500\n",
      "[9 2 1 ... 6 1 6] [9 2 1 ... 6 1 6]\n",
      "Accuracy:  0.9255072119866439\n"
     ]
    }
   ],
   "source": [
    "# Training the neural network on the training set\n",
    "W1, b1, W2, b2, W3, b3 = gradient_descent(X_train, Y_train, 0.2, 500)"
   ]
  },
  {
   "cell_type": "code",
   "execution_count": 11,
   "id": "56773e0c",
   "metadata": {
    "execution": {
     "iopub.execute_input": "2024-10-24T06:05:27.134519Z",
     "iopub.status.busy": "2024-10-24T06:05:27.133919Z",
     "iopub.status.idle": "2024-10-24T06:05:27.148203Z",
     "shell.execute_reply": "2024-10-24T06:05:27.146962Z"
    },
    "id": "0hspLPyGo_qU",
    "papermill": {
     "duration": 0.032094,
     "end_time": "2024-10-24T06:05:27.151830",
     "exception": false,
     "start_time": "2024-10-24T06:05:27.119736",
     "status": "completed"
    },
    "tags": []
   },
   "outputs": [],
   "source": [
    "def make_predictions(X, W1, b1, W2, b2, W3, b3):\n",
    "  \"\"\"Generates predictions for the input data using the trained network.\"\"\"\n",
    "  _, _, _, _, _, A3 = forward_prop(W1, b1, W2, b2, W3, b3, X)\n",
    "  predictions = get_predictions(A3)\n",
    "  return predictions\n",
    "\n",
    "def test_prediction(index, W1, b1, W2, b2, W3, b3):\n",
    "    \"\"\"Tests the model's prediction for a specific image index.\"\"\"\n",
    "    current_image = X_train[:, index, None]  # Get the current image (column vector)\n",
    "    prediction = make_predictions(X_train[:, index, None], W1, b1, W2, b2, W3, b3)  # Get prediction for the current image\n",
    "    label = Y_train[index]  # Get the true label for the current image\n",
    "    print(\"Prediction: \", prediction)  # Print the predicted class\n",
    "    print(\"Label: \", label)  # Print the true label\n",
    "\n",
    "    # Reshape the image for displaying and scale back to 0-255\n",
    "    current_image = current_image.reshape((28, 28)) * 255\n",
    "    plt.gray()  # Set the colormap to gray\n",
    "    plt.imshow(current_image, interpolation='nearest')  # Display the image\n",
    "    plt.show()  # Show the plot\n"
   ]
  },
  {
   "cell_type": "code",
   "execution_count": 12,
   "id": "3491f1bb",
   "metadata": {
    "execution": {
     "iopub.execute_input": "2024-10-24T06:05:27.177102Z",
     "iopub.status.busy": "2024-10-24T06:05:27.176561Z",
     "iopub.status.idle": "2024-10-24T06:05:29.454410Z",
     "shell.execute_reply": "2024-10-24T06:05:29.453393Z"
    },
    "id": "ukyLYnj95Svt",
    "outputId": "07cbf5d6-3c66-4cd4-81fa-f5cfeb31faf9",
    "papermill": {
     "duration": 2.293056,
     "end_time": "2024-10-24T06:05:29.456795",
     "exception": false,
     "start_time": "2024-10-24T06:05:27.163739",
     "status": "completed"
    },
    "tags": []
   },
   "outputs": [
    {
     "name": "stdout",
     "output_type": "stream",
     "text": [
      "Prediction:  [2]\n",
      "Label:  2\n"
     ]
    },
    {
     "data": {
      "image/png": "[encoded data removed]",
      "text/plain": [
       "<Figure size 640x480 with 1 Axes>"
      ]
     },
     "metadata": {},
     "output_type": "display_data"
    },
    {
     "name": "stdout",
     "output_type": "stream",
     "text": [
      "Prediction:  [9]\n",
      "Label:  9\n"
     ]
    },
    {
     "data": {
      "image/png": "[encoded data removed]",
      "text/plain": [
       "<Figure size 640x480 with 1 Axes>"
      ]
     },
     "metadata": {},
     "output_type": "display_data"
    },
    {
     "name": "stdout",
     "output_type": "stream",
     "text": [
      "Prediction:  [8]\n",
      "Label:  8\n"
     ]
    },
    {
     "data": {
      "image/png": "[encoded data removed]",
      "text/plain": [
       "<Figure size 640x480 with 1 Axes>"
      ]
     },
     "metadata": {},
     "output_type": "display_data"
    },
    {
     "name": "stdout",
     "output_type": "stream",
     "text": [
      "Prediction:  [5]\n",
      "Label:  5\n"
     ]
    },
    {
     "data": {
      "image/png": "[encoded data removed]",
      "text/plain": [
       "<Figure size 640x480 with 1 Axes>"
      ]
     },
     "metadata": {},
     "output_type": "display_data"
    },
    {
     "name": "stdout",
     "output_type": "stream",
     "text": [
      "Prediction:  [9]\n",
      "Label:  9\n"
     ]
    },
    {
     "data": {
      "image/png": "[encoded data removed]",
      "text/plain": [
       "<Figure size 640x480 with 1 Axes>"
      ]
     },
     "metadata": {},
     "output_type": "display_data"
    },
    {
     "name": "stdout",
     "output_type": "stream",
     "text": [
      "Prediction:  [6]\n",
      "Label:  6\n"
     ]
    },
    {
     "data": {
      "image/png": "[encoded data removed]",
      "text/plain": [
       "<Figure size 640x480 with 1 Axes>"
      ]
     },
     "metadata": {},
     "output_type": "display_data"
    },
    {
     "name": "stdout",
     "output_type": "stream",
     "text": [
      "Prediction:  [0]\n",
      "Label:  0\n"
     ]
    },
    {
     "data": {
      "image/png": "[encoded data removed]",
      "text/plain": [
       "<Figure size 640x480 with 1 Axes>"
      ]
     },
     "metadata": {},
     "output_type": "display_data"
    },
    {
     "name": "stdout",
     "output_type": "stream",
     "text": [
      "Prediction:  [6]\n",
      "Label:  5\n"
     ]
    },
    {
     "data": {
      "image/png": "[encoded data removed]",
      "text/plain": [
       "<Figure size 640x480 with 1 Axes>"
      ]
     },
     "metadata": {},
     "output_type": "display_data"
    },
    {
     "name": "stdout",
     "output_type": "stream",
     "text": [
      "Prediction:  [0]\n",
      "Label:  0\n"
     ]
    },
    {
     "data": {
      "image/png": "[encoded data removed]",
      "text/plain": [
       "<Figure size 640x480 with 1 Axes>"
      ]
     },
     "metadata": {},
     "output_type": "display_data"
    },
    {
     "name": "stdout",
     "output_type": "stream",
     "text": [
      "Prediction:  [5]\n",
      "Label:  5\n"
     ]
    },
    {
     "data": {
      "image/png": "[encoded data removed]",
      "text/plain": [
       "<Figure size 640x480 with 1 Axes>"
      ]
     },
     "metadata": {},
     "output_type": "display_data"
    }
   ],
   "source": [
    "indexes = [1,50,100,150,200,250,300,350,400,450]\n",
    "for i in indexes:\n",
    "  test_prediction(i, W1, b1, W2, b2, W3, b3)"
   ]
  },
  {
   "cell_type": "code",
   "execution_count": null,
   "id": "3e70bff5",
   "metadata": {
    "papermill": {
     "duration": 0.009248,
     "end_time": "2024-10-24T06:05:29.476454",
     "exception": false,
     "start_time": "2024-10-24T06:05:29.467206",
     "status": "completed"
    },
    "tags": []
   },
   "outputs": [],
   "source": []
  },
  {
   "cell_type": "code",
   "execution_count": 13,
   "id": "3b8470b1",
   "metadata": {
    "execution": {
     "iopub.execute_input": "2024-10-24T06:05:29.497213Z",
     "iopub.status.busy": "2024-10-24T06:05:29.496828Z",
     "iopub.status.idle": "2024-10-24T06:05:29.521556Z",
     "shell.execute_reply": "2024-10-24T06:05:29.519216Z"
    },
    "papermill": {
     "duration": 0.038828,
     "end_time": "2024-10-24T06:05:29.524840",
     "exception": false,
     "start_time": "2024-10-24T06:05:29.486012",
     "status": "completed"
    },
    "tags": []
   },
   "outputs": [
    {
     "name": "stdout",
     "output_type": "stream",
     "text": [
      "[5 8 2 4 8 8 2 6 2 6 8 9 1 1 6 4 0 1 1 3 7 4 3 9 1 9 5 8 9 8 9 4 2 5 2 7 6\n",
      " 0 1 0 7 8 4 0 9 3 0 8 6 8 1 2 2 0 8 0 1 4 1 0 4 2 8 7 5 9 6 2 2 1 0 3 6 7\n",
      " 0 8 5 3 7 2 0 2 8 5 5 2 0 9 6 7 2 1 1 2 9 6 6 2 6 6 4 3 9 6 5 3 6 8 1 2 4\n",
      " 0 4 0 3 6 2 1 0 1 1 0 6 8 7 0 9 6 1 3 2 7 8 7 6 3 6 6 9 7 0 6 5 8 0 8 5 1\n",
      " 1 6 1 6 9 6 3 8 3 9 1 6 0 7 9 5 7 5 6 5 9 5 3 8 0 1 8 7 3 9 7 1 3 2 1 3 4\n",
      " 9 3 8 4 1 2 4 0 9 7 3 1 9 3 8 0 9 9 4 1 1 2 0 2 2 6 7 2 8 6 2 6 3 9 4 0 6\n",
      " 1 0 2 7 0 7 9 3 9 6 2 9 8 5 7 0 1 9 5 2 9 2 1 4 4 3 0 1 0 8 9 5 4 8 5 4 3\n",
      " 0 5 1 2 3 5 2 3 4 4 1 1 3 3 1 3 4 6 7 8 7 2 5 5 3 0 8 7 2 9 6 8 7 1 7 6 5\n",
      " 6 7 7 0 5 4 1 7 2 9 1 9 5 2 4 9 6 8 8 9 3 5 7 2 4 4 6 1 0 3 8 2 0 3 7 6 5\n",
      " 1 8 3 6 9 7 7 8 4 0 0 9 2 6 3 7 6 0 5 2 1 1 8 3 7 9 5 5 0 1 9 0 3 7 5 5 1\n",
      " 6 1 2 4 9 0 3 4 5 7 2 4 6 8 1 9 1 6 7 4 3 1 9 1 8 5 1 8 4 0 7 9 6 3 3 0 4\n",
      " 9 0 1 7 6 1 2 8 1 6 7 1 5 2 5 7 3 7 2 9 7 7 8 9 1 4 6 9 3 5 7 6 6 3 1 2 2\n",
      " 9 9 9 8 7 1 7 2 5 1 9 6 0 2 9 3 5 5 9 1 6 3 2 8 8 1 2 3 4 9 1 1 2 9 4 7 1\n",
      " 5 0 8 1 3 2 8 5 8 2 8 2 3 7 4 3 9 2 3 0 3 9 2 0 1 8 0 3 0 7 8 6 6 0 0 7 2\n",
      " 6 4 9 6 0 3 2 5 2 9 7 5 8 7 0 6 5 2 4 4 0 9 8 9 5 7 0 0 1 4 6 6 1 9 7 4 1\n",
      " 1 6 8 5 7 6 5 3 7 6 0 1 3 4 3 5 6 2 2 2 3 7 6 5 8 6 6 0 1 1 8 5 9 1 1 9 4\n",
      " 0 5 4 3 9 3 5 8 4 0 7 2 9 8 2 5 7 1 5 4 9 1 9 5 2 0 5 7 7 4 1 1 9 6 0 2 7\n",
      " 1 8 3 2 4 7 3 9 8 7 3 1 1 7 7 7 6 7 8 8 7 2 1 0 3 8 8 1 5 1 3 5 9 3 8 9 6\n",
      " 7 5 1 7 1 4 1 5 1 8 5 9 1 9 9 9 9 4 3 4 3 1 7 2 0 3 0 7 2 9 8 1 0 5 2 2 7\n",
      " 1 8 9 1 7 4 3 8 4 2 8 8 6 8 8 9 3 0 4 8 1 4 5 4 0 9 1 1 2 7 5 0 3 3 5 0 0\n",
      " 8 5 9 6 3 4 7 7 2 5 8 5 8 6 6 9 5 6 4 0 5 5 6 6 1 9 5 5 7 6 7 8 3 5 4 9 3\n",
      " 6 6 4 6 4 7 9 5 7 7 8 6 3 7 7 8 5 4 8 1 4 4 1 1 0 7 1 7 1 7 5 2 5 9 4 5 1\n",
      " 3 1 2 1 8 8 3 2 2 2 9 2 0 0 4 0 0 8 7 7 6 4 6 0 3 6 2 9 4 9 5 3 8 7 7 7 1\n",
      " 1 2 1 0 0 8 6 2 3 3 0 7 6 8 6 2 5 0 6 2 7 5 9 3 3 2 2 5 4 6 8 9 6 7 6 1 2\n",
      " 7 0 3 3 4 4 0 3 1 8 8 7 6 6 3 8 9 1 4 6 0 9 6 8 5 8 9 6 3 3 3 5 7 3 5 2 1\n",
      " 5 5 7 3 5 7 7 6 4 8 1 9 8 9 3 2 0 6 9 3 9 1 7 7 0 4 0 6 0 2 7 0 6 3 4 2 3\n",
      " 2 9 7 1 7 3 6 1 3 5 0 1 8 0 5 9 8 6 1 0 3 2 3 6 1 4 6 0 7 9 6 5 5 4 0 2 1\n",
      " 0] [5 8 2 4 8 8 2 2 7 2 8 9 1 1 6 4 0 1 1 3 7 4 3 7 1 5 5 8 9 8 9 4 2 5 2 7 6\n",
      " 0 1 0 7 8 4 0 7 3 0 8 6 8 1 2 2 0 8 0 1 4 1 0 4 2 8 7 5 4 6 8 2 1 0 3 6 7\n",
      " 0 8 5 3 7 2 0 2 8 5 5 2 8 9 6 7 2 1 1 3 9 6 6 2 6 6 4 3 9 6 8 3 6 1 4 2 4\n",
      " 0 4 0 3 6 2 1 0 8 1 0 6 0 7 6 9 6 1 3 2 7 8 7 6 3 6 6 9 7 0 6 5 8 0 8 5 1\n",
      " 1 6 1 6 9 6 8 8 3 9 1 6 0 7 9 6 7 5 6 5 4 5 3 8 0 1 8 7 3 9 4 1 3 2 1 3 4\n",
      " 9 3 8 4 1 2 4 0 9 7 3 1 9 3 8 0 9 9 4 1 5 2 0 2 2 6 7 2 8 6 2 6 3 9 4 0 6\n",
      " 1 0 2 7 0 7 9 3 9 6 2 9 8 5 7 0 1 9 5 7 9 2 1 4 4 3 0 1 0 8 9 8 4 8 5 4 3\n",
      " 0 5 1 2 3 5 2 3 4 4 1 1 3 3 1 3 4 6 7 8 7 2 5 5 3 0 8 7 2 3 0 8 7 1 7 6 5\n",
      " 5 9 7 0 3 4 7 7 2 9 1 9 5 2 4 9 8 8 8 9 3 5 9 2 4 4 6 1 0 3 8 2 0 3 7 6 5\n",
      " 1 8 3 6 9 7 7 8 4 0 0 9 2 6 9 7 6 0 5 2 1 1 8 3 7 9 5 5 0 8 3 0 3 7 5 5 1\n",
      " 6 1 2 2 9 0 3 4 5 7 2 4 6 8 1 9 1 6 7 4 3 1 9 1 8 5 1 8 4 0 7 9 6 3 3 0 4\n",
      " 9 0 1 7 6 1 2 8 1 6 7 1 0 3 5 7 3 7 7 9 7 7 8 9 1 4 6 9 3 5 7 6 6 3 1 2 2\n",
      " 9 9 9 9 7 1 7 0 5 1 9 6 0 2 9 3 5 5 9 1 6 3 2 8 8 1 2 2 4 9 1 1 2 9 4 7 1\n",
      " 5 0 8 1 3 2 8 5 8 2 8 2 3 7 4 3 9 2 3 0 2 9 2 0 1 3 0 3 0 7 4 6 4 0 0 7 2\n",
      " 6 4 9 6 0 3 2 5 2 9 7 5 8 7 0 6 5 2 4 4 0 9 8 8 5 7 0 0 1 4 6 6 1 9 7 4 1\n",
      " 1 6 8 5 7 6 1 0 7 6 0 1 3 4 3 5 6 2 2 2 3 2 6 5 8 6 6 0 1 1 8 5 9 1 1 9 4\n",
      " 0 5 4 3 9 5 5 8 4 0 1 2 9 8 2 5 7 1 5 4 9 9 4 1 2 0 5 7 7 4 1 1 9 6 0 2 7\n",
      " 1 8 3 2 4 7 3 9 8 7 3 1 1 7 7 7 6 7 8 8 7 2 1 0 3 8 8 1 5 1 3 5 9 8 8 9 6\n",
      " 7 5 1 7 1 4 1 5 1 8 5 9 1 9 9 7 9 4 3 4 3 1 7 2 0 3 0 7 2 9 8 1 0 5 2 2 7\n",
      " 1 8 9 1 7 4 3 8 4 2 8 8 6 8 8 9 3 8 4 8 1 4 5 4 0 9 1 1 2 7 5 0 3 3 5 3 0\n",
      " 3 5 9 6 3 4 7 7 2 5 8 5 8 6 8 9 5 6 4 0 5 5 6 6 1 9 1 5 7 6 9 8 3 5 4 9 3\n",
      " 6 6 4 6 4 7 9 5 7 7 8 6 3 7 9 8 5 4 8 1 4 4 1 1 0 7 1 9 1 7 5 2 5 9 4 5 1\n",
      " 3 1 2 1 8 8 3 2 2 2 9 2 2 0 4 0 0 8 7 7 6 4 6 2 3 6 2 7 4 9 5 3 8 7 7 7 1\n",
      " 1 2 1 0 0 8 6 2 3 3 0 7 6 8 6 2 5 0 6 2 7 5 9 5 3 0 2 5 4 6 8 9 6 7 6 1 2\n",
      " 7 0 3 3 4 4 0 3 1 8 8 7 8 6 7 8 9 1 4 6 0 9 6 8 5 8 9 6 3 3 3 5 7 3 5 2 1\n",
      " 5 5 7 3 5 7 7 6 4 8 1 9 8 9 3 2 7 6 9 3 9 1 7 7 0 4 0 6 0 2 7 0 6 3 4 2 3\n",
      " 2 4 7 1 7 7 6 1 3 5 0 1 8 0 5 9 8 6 1 0 3 2 8 6 1 4 6 0 7 9 6 5 5 4 0 2 1\n",
      " 0]\n"
     ]
    },
    {
     "data": {
      "text/plain": [
       "0.925"
      ]
     },
     "execution_count": 13,
     "metadata": {},
     "output_type": "execute_result"
    }
   ],
   "source": [
    "# Finally, let's find the accuracy on the dev set:\n",
    "\n",
    "dev_predictions = make_predictions(X_dev, W1, b1, W2, b2, W3, b3)\n",
    "get_accuracy(dev_predictions, Y_dev)"
   ]
  },
  {
   "cell_type": "code",
   "execution_count": null,
   "id": "3bdcf170",
   "metadata": {
    "papermill": {
     "duration": 0.0162,
     "end_time": "2024-10-24T06:05:29.558420",
     "exception": false,
     "start_time": "2024-10-24T06:05:29.542220",
     "status": "completed"
    },
    "tags": []
   },
   "outputs": [],
   "source": []
  },
  {
   "cell_type": "code",
   "execution_count": 14,
   "id": "31920402",
   "metadata": {
    "execution": {
     "iopub.execute_input": "2024-10-24T06:05:29.593882Z",
     "iopub.status.busy": "2024-10-24T06:05:29.593150Z",
     "iopub.status.idle": "2024-10-24T06:05:30.272405Z",
     "shell.execute_reply": "2024-10-24T06:05:30.271277Z"
    },
    "id": "e2yq_TBXrjZa",
    "papermill": {
     "duration": 0.700052,
     "end_time": "2024-10-24T06:05:30.275158",
     "exception": false,
     "start_time": "2024-10-24T06:05:29.575106",
     "status": "completed"
    },
    "tags": []
   },
   "outputs": [],
   "source": [
    "# Importing test data\n",
    "test_data = pd.read_csv('/kaggle/input/mnist-dataset/mnist_test.csv')"
   ]
  },
  {
   "cell_type": "code",
   "execution_count": 15,
   "id": "c7de1482",
   "metadata": {
    "execution": {
     "iopub.execute_input": "2024-10-24T06:05:30.297711Z",
     "iopub.status.busy": "2024-10-24T06:05:30.296748Z",
     "iopub.status.idle": "2024-10-24T06:05:30.316385Z",
     "shell.execute_reply": "2024-10-24T06:05:30.315277Z"
    },
    "id": "iozqfPbLrobS",
    "papermill": {
     "duration": 0.033676,
     "end_time": "2024-10-24T06:05:30.319044",
     "exception": false,
     "start_time": "2024-10-24T06:05:30.285368",
     "status": "completed"
    },
    "tags": []
   },
   "outputs": [],
   "source": [
    "# Converting the test data to a NumPy array\n",
    "test_data = np.array(test_data)"
   ]
  },
  {
   "cell_type": "code",
   "execution_count": 16,
   "id": "36a313bb",
   "metadata": {
    "execution": {
     "iopub.execute_input": "2024-10-24T06:05:30.340701Z",
     "iopub.status.busy": "2024-10-24T06:05:30.340303Z",
     "iopub.status.idle": "2024-10-24T06:05:30.345376Z",
     "shell.execute_reply": "2024-10-24T06:05:30.344190Z"
    },
    "id": "pO1ib8NGrrLb",
    "papermill": {
     "duration": 0.018493,
     "end_time": "2024-10-24T06:05:30.347531",
     "exception": false,
     "start_time": "2024-10-24T06:05:30.329038",
     "status": "completed"
    },
    "tags": []
   },
   "outputs": [],
   "source": [
    "# Getting the number of samples (m_test) and features (n_test) from the test dataset\n",
    "m_test, n_test = test_data.shape"
   ]
  },
  {
   "cell_type": "code",
   "execution_count": 17,
   "id": "99e5f85e",
   "metadata": {
    "execution": {
     "iopub.execute_input": "2024-10-24T06:05:30.369807Z",
     "iopub.status.busy": "2024-10-24T06:05:30.368795Z",
     "iopub.status.idle": "2024-10-24T06:05:30.389512Z",
     "shell.execute_reply": "2024-10-24T06:05:30.388248Z"
    },
    "id": "o7IJiiiyryHc",
    "papermill": {
     "duration": 0.034619,
     "end_time": "2024-10-24T06:05:30.392156",
     "exception": false,
     "start_time": "2024-10-24T06:05:30.357537",
     "status": "completed"
    },
    "tags": []
   },
   "outputs": [],
   "source": [
    "# Preparing the test data\n",
    "test_data_dev = test_data.T  # Transposing the test data for easier indexing\n",
    "Y_test = test_data_dev[0]    # Labels for the test set\n",
    "X_test = test_data_dev[1:n_test]  # Features for the test set\n",
    "X_test = X_test / 255         # Normalizing the test input data (values between 0 and 1)\n"
   ]
  },
  {
   "cell_type": "code",
   "execution_count": 18,
   "id": "d14c235a",
   "metadata": {
    "execution": {
     "iopub.execute_input": "2024-10-24T06:05:30.413659Z",
     "iopub.status.busy": "2024-10-24T06:05:30.413215Z",
     "iopub.status.idle": "2024-10-24T06:05:30.454998Z",
     "shell.execute_reply": "2024-10-24T06:05:30.453777Z"
    },
    "id": "PL7ASurOsBk8",
    "outputId": "f3b9200f-c756-49b1-d21b-51417b73f61f",
    "papermill": {
     "duration": 0.056501,
     "end_time": "2024-10-24T06:05:30.458543",
     "exception": false,
     "start_time": "2024-10-24T06:05:30.402042",
     "status": "completed"
    },
    "tags": []
   },
   "outputs": [
    {
     "name": "stdout",
     "output_type": "stream",
     "text": [
      "[2 1 0 ... 4 8 6] [2 1 0 ... 4 5 6]\n",
      "Test Set Accuracy:  0.9206920692069207\n"
     ]
    }
   ],
   "source": [
    "# Making predictions on the test set and calculating accuracy\n",
    "test_data_predictions = make_predictions(X_test, W1, b1, W2, b2, W3, b3)  # Get predictions for the test set\n",
    "test_accuracy = get_accuracy(test_data_predictions, Y_test)  # Calculate accuracy for the test set\n",
    "print(\"Test Set Accuracy: \", test_accuracy)  # Print the accuracy"
   ]
  },
  {
   "cell_type": "code",
   "execution_count": null,
   "id": "293ad325",
   "metadata": {
    "id": "DJs-CGxTsKJr",
    "papermill": {
     "duration": 0.016609,
     "end_time": "2024-10-24T06:05:30.493083",
     "exception": false,
     "start_time": "2024-10-24T06:05:30.476474",
     "status": "completed"
    },
    "tags": []
   },
   "outputs": [],
   "source": []
  }
 ],
 "metadata": {
  "colab": {
   "provenance": []
  },
  "kaggle": {
   "accelerator": "none",
   "dataSources": [
    {
     "datasetId": 5925625,
     "sourceId": 9692197,
     "sourceType": "datasetVersion"
    }
   ],
   "dockerImageVersionId": 30786,
   "isGpuEnabled": false,
   "isInternetEnabled": false,
   "language": "python",
   "sourceType": "notebook"
  },
  "kernelspec": {
   "display_name": "Python 3",
   "language": "python",
   "name": "python3"
  },
  "language_info": {
   "codemirror_mode": {
    "name": "ipython",
    "version": 3
   },
   "file_extension": ".py",
   "mimetype": "text/x-python",
   "name": "python",
   "nbconvert_exporter": "python",
   "pygments_lexer": "ipython3",
   "version": "3.10.14"
  },
  "papermill": {
   "default_parameters": {},
   "duration": 193.363641,
   "end_time": "2024-10-24T06:05:31.036995",
   "environment_variables": {},
   "exception": null,
   "input_path": "__notebook__.ipynb",
   "output_path": "__notebook__.ipynb",
   "parameters": {},
   "start_time": "2024-10-24T06:02:17.673354",
   "version": "2.6.0"
  }
 },
 "nbformat": 4,
 "nbformat_minor": 5
}
